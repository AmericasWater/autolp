{
 "cells": [
  {
   "cell_type": "code",
   "execution_count": 1,
   "metadata": {
    "collapsed": true
   },
   "outputs": [],
   "source": [
    "include(\"src/makematrix.jl\")"
   ]
  },
  {
   "cell_type": "markdown",
   "metadata": {},
   "source": [
    "Our example has 5 counties in a row, with links between them.\n",
    "Resources are produced in counties at a county-specific cost, and then can be transported to other counties.\n",
    "Each county has a resource requirement, and the problem is to satisfy that requirement for minimum cost."
   ]
  },
  {
   "cell_type": "code",
   "execution_count": 2,
   "metadata": {
    "collapsed": true
   },
   "outputs": [],
   "source": [
    "# How much resource each county requires\n",
    "requirements = [1, 2, 3, 4, 5];\n",
    "# The cost per unit of producing it within each county\n",
    "productioncosts = [1, 3, 5, 7, 9];\n",
    "# The cost of transporting a unit of resource to the next county\n",
    "transportcost = 2;"
   ]
  },
  {
   "cell_type": "markdown",
   "metadata": {},
   "source": [
    "Now we set up the objective and constraints.  There are 5 constraints for the mass-balance of each county and the variables are production in each county (5 values) and transportation between the counties (4 values)."
   ]
  },
  {
   "cell_type": "code",
   "execution_count": 3,
   "metadata": {
    "collapsed": true
   },
   "outputs": [],
   "source": [
    "# Minimize the production + transportation costs\n",
    "objective(production, transport) =\n",
    "    sum(production .* productioncosts) + sum(transport * transportcost)\n",
    "\n",
    "# Make a network constraint for county ii\n",
    "function makeconstraint(ii)\n",
    "    # The constraint function\n",
    "    function constraint(production, transport)\n",
    "        transport = [0; transport; 0] # force no transport on boundary\n",
    "        # Require that production - exports + imports >= requirements\n",
    "        requirements[ii] - (production[ii] - transport[ii + 1] + transport[ii])\n",
    "    end\n",
    "end\n",
    "\n",
    "# Set up the constraints\n",
    "constraints = map(makeconstraint, 1:5);"
   ]
  },
  {
   "cell_type": "markdown",
   "metadata": {},
   "source": [
    "To create the five constraints, we set up a `makeconstraint` function.  All that does is specify which county the constraint is for, and then the `constraint` function defined inside of it describes the mass-balance requirement:\n",
    "\\begin{align*}\n",
    "  R_i \\le & P_i - \\sum_j T_{ij} - T_{ji} \\\\\n",
    "  R_i \\le & P_i - I_{i+1} + I_i \\\\\n",
    "\\end{align*}\n",
    "where $R_i$ is the requirement in county $i$, $P_i$ is its production, and $T_{ij}$ is the transport from county $i$ to county $j$.  In our simplified example, we instead write this in terms of $I_i$, the import of county $i$ from its upstream neighbor."
   ]
  },
  {
   "cell_type": "markdown",
   "metadata": {},
   "source": [
    "Now we create the linear programming matrices, by evaluating the derivative at any point (since its a linear system).  The matrices are for the form:\n",
    "\\begin{equation*}\n",
    "\\min f' x \\text{ such that $A x \\le b$}\n",
    "\\end{equation*}"
   ]
  },
  {
   "cell_type": "code",
   "execution_count": 4,
   "metadata": {
    "collapsed": false
   },
   "outputs": [
    {
     "data": {
      "text/plain": [
       "9-element Array{Float64,1}:\n",
       " 1.0\n",
       " 3.0\n",
       " 5.0\n",
       " 7.0\n",
       " 9.0\n",
       " 2.0\n",
       " 2.0\n",
       " 2.0\n",
       " 2.0"
      ]
     },
     "execution_count": 4,
     "metadata": {},
     "output_type": "execute_result"
    }
   ],
   "source": [
    "# Define a single point solution\n",
    "x0 = zeros(9);\n",
    "\n",
    "# Create the matrices for the linear programming problem\n",
    "f = objectivevector(objective, x0, args=[5, 4])"
   ]
  },
  {
   "cell_type": "markdown",
   "metadata": {},
   "source": [
    "The objective function places a county-specific penalty on the 5 productions and 4 transport variables."
   ]
  },
  {
   "cell_type": "code",
   "execution_count": 5,
   "metadata": {
    "collapsed": false
   },
   "outputs": [],
   "source": [
    "A, b = constraintmatrix(constraints, x0, args=[5, 4]);"
   ]
  },
  {
   "cell_type": "code",
   "execution_count": 6,
   "metadata": {
    "collapsed": false
   },
   "outputs": [
    {
     "data": {
      "text/plain": [
       "5x9 Array{Float64,2}:\n",
       " -1.0  -0.0  -0.0  -0.0  -0.0   1.0  -0.0  -0.0  -0.0\n",
       " -0.0  -1.0  -0.0  -0.0  -0.0  -1.0   1.0  -0.0  -0.0\n",
       " -0.0  -0.0  -1.0  -0.0  -0.0  -0.0  -1.0   1.0  -0.0\n",
       " -0.0  -0.0  -0.0  -1.0  -0.0  -0.0  -0.0  -1.0   1.0\n",
       " -0.0  -0.0  -0.0  -0.0  -1.0  -0.0  -0.0  -0.0  -1.0"
      ]
     },
     "execution_count": 6,
     "metadata": {},
     "output_type": "execute_result"
    }
   ],
   "source": [
    "A"
   ]
  },
  {
   "cell_type": "markdown",
   "metadata": {},
   "source": [
    "The $A$ matrix is a little difficult to read in this form because of all the `-0.0` values, but it describes the five constraints each in a row, with a `-1.0` for each unit of production and import and an `1.0` for each unit of export.  Remeber that the requirement is satisfied when it is $< 0$."
   ]
  },
  {
   "cell_type": "code",
   "execution_count": 7,
   "metadata": {
    "collapsed": false
   },
   "outputs": [
    {
     "data": {
      "text/plain": [
       "5-element Array{Float64,1}:\n",
       " -1.0\n",
       " -2.0\n",
       " -3.0\n",
       " -4.0\n",
       " -5.0"
      ]
     },
     "execution_count": 7,
     "metadata": {},
     "output_type": "execute_result"
    }
   ],
   "source": [
    "b"
   ]
  },
  {
   "cell_type": "markdown",
   "metadata": {},
   "source": [
    "The $b$ vector defines the constants for the requirements."
   ]
  },
  {
   "cell_type": "markdown",
   "metadata": {},
   "source": [
    "Now we can solve it!  We specify that the solution lies between all productions and transports being 0 and being $\\infty$."
   ]
  },
  {
   "cell_type": "code",
   "execution_count": 8,
   "metadata": {
    "collapsed": false
   },
   "outputs": [
    {
     "name": "stdout",
     "output_type": "stream",
     "text": [
      "Optimize a model with 5 rows, 9 columns and 13 nonzeros\n",
      "Coefficient statistics:\n",
      "  Matrix range    [1e+00, 1e+00]\n",
      "  Objective range [1e+00, 9e+00]\n",
      "  Bounds range    [0e+00, 0e+00]\n",
      "  RHS range       [1e+00, 5e+00]\n",
      "Presolve removed 5 rows and 9 columns\n",
      "Presolve time: 0.00s\n",
      "Presolve: All rows and columns removed\n",
      "Iteration    Objective       Primal Inf.    Dual Inf.      Time\n",
      "       0    9.5000000e+01   0.000000e+00   0.000000e+00      0s\n",
      "\n",
      "Solved in 0 iterations and 0.00 seconds\n",
      "Optimal objective  9.500000000e+01\n"
     ]
    },
    {
     "data": {
      "text/plain": [
       "9-element Array{Float64,1}:\n",
       "  1.0\n",
       " 14.0\n",
       "  0.0\n",
       "  0.0\n",
       "  0.0\n",
       "  0.0\n",
       " 12.0\n",
       "  9.0\n",
       "  5.0"
      ]
     },
     "execution_count": 8,
     "metadata": {},
     "output_type": "execute_result"
    }
   ],
   "source": [
    "# Solve it!\n",
    "sol = linprog(f, A, '<', b, zeros(9), ones(9) * Inf)\n",
    "sol.sol"
   ]
  },
  {
   "cell_type": "markdown",
   "metadata": {},
   "source": [
    "So the solution is to have all the resource produced in county 1 and 2 and then transported to the rest.  Note that if the transport cost is $\\le 1$, it will all be produced in county 1, and it the transport cost is $> 2$ it will be produced in each county individually."
   ]
  },
  {
   "cell_type": "code",
   "execution_count": null,
   "metadata": {
    "collapsed": true
   },
   "outputs": [],
   "source": []
  }
 ],
 "metadata": {
  "kernelspec": {
   "display_name": "Julia 0.4.0",
   "language": "julia",
   "name": "julia-0.4"
  },
  "language_info": {
   "file_extension": ".jl",
   "mimetype": "application/julia",
   "name": "julia",
   "version": "0.4.0"
  }
 },
 "nbformat": 4,
 "nbformat_minor": 0
}
